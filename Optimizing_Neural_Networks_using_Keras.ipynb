{
  "nbformat": 4,
  "nbformat_minor": 0,
  "metadata": {
    "colab": {
      "name": "Optimizing Neural Networks using Keras",
      "provenance": [],
      "collapsed_sections": [],
      "authorship_tag": "ABX9TyPaixAEk+LMnEFO0C7sEmhF",
      "include_colab_link": true
    },
    "kernelspec": {
      "name": "python3",
      "display_name": "Python 3"
    },
    "language_info": {
      "name": "python"
    }
  },
  "cells": [
    {
      "cell_type": "markdown",
      "metadata": {
        "id": "view-in-github",
        "colab_type": "text"
      },
      "source": [
        "<a href=\"https://colab.research.google.com/github/gaussssss/machinelearning-tpe/blob/main/Optimizing_Neural_Networks_using_Keras.ipynb\" target=\"_parent\"><img src=\"https://colab.research.google.com/assets/colab-badge.svg\" alt=\"Open In Colab\"/></a>"
      ]
    },
    {
      "cell_type": "markdown",
      "source": [
        "<h1>NoteBook de TPE d'apprentissage artificiel UY I Niveau 3 Info 2021/2022</h1>\n",
        "\n",
        "<h3>Liste des membres du TPE</h3>\n",
        "<ul>\n",
        "  <li>MOMENE TIYA Florian <strong>21S2785</strong></li>\n",
        "  <li>TEIDA NOUTSA Remi Raoul <strong>19M2447</strong></li>\n",
        "  <li>MBOCK NYENGUE Anne Claude <strong>19M2211</strong></li>\n",
        "  <li>EKOH FOUAPON NJIKAM Yvan <strong>19M2198</strong></li>\n",
        "</ul>\n",
        "<br>\n",
        "<strong><i>Par Dr. Melatagia</i></strong>"
      ],
      "metadata": {
        "id": "v5ak1kZkIMkt"
      }
    },
    {
      "cell_type": "code",
      "execution_count": null,
      "metadata": {
        "id": "2mu4kVk-TDsM",
        "colab": {
          "base_uri": "https://localhost:8080/"
        },
        "outputId": "26fc29b4-97da-4216-c4ab-2f2d84220c64"
      },
      "outputs": [
        {
          "output_type": "stream",
          "name": "stdout",
          "text": [
            "Populating the interactive namespace from numpy and matplotlib\n"
          ]
        },
        {
          "output_type": "stream",
          "name": "stderr",
          "text": [
            "/usr/local/lib/python3.7/dist-packages/IPython/core/magics/pylab.py:161: UserWarning: pylab import has clobbered these variables: ['imread', 'seed']\n",
            "`%matplotlib` prevents importing * from pylab and numpy\n",
            "  \"\\n`%matplotlib` prevents importing * from pylab and numpy\"\n"
          ]
        },
        {
          "output_type": "stream",
          "name": "stdout",
          "text": [
            "Drive already mounted at /content/drive; to attempt to forcibly remount, call drive.mount(\"/content/drive\", force_remount=True).\n"
          ]
        }
      ],
      "source": [
        "%pylab inline\n",
        "import os\n",
        "import numpy as np\n",
        "import pandas as pd\n",
        "from imageio import imread\n",
        "from sklearn.metrics import accuracy_score\n",
        "from google.colab import drive\n",
        "import tensorflow as tf\n",
        "import matplotlib.pyplot as plt\n",
        "from matplotlib import cm\n",
        "import keras\n",
        "# import keras modules\n",
        "\n",
        "from tensorflow.keras.models import Sequential\n",
        "from tensorflow.keras.layers import Dense, Activation, Dropout, Convolution2D, Flatten, MaxPooling2D, Reshape, InputLayer\n",
        "\n",
        "# To stop potential randomness\n",
        "seed = 128\n",
        "rng = np.random.RandomState(seed)\n",
        "drive.mount('/content/drive')"
      ]
    },
    {
      "cell_type": "code",
      "source": [
        "# (x_train, y_train), (x_test, y_test) = tf.keras.datasets.mnist.load_data()\n",
        "train = pd.read_csv('/content/drive/MyDrive/Colab Notebooks/mnist recognition/train.csv')\n",
        "test = pd.read_csv('/content/drive/MyDrive/Colab Notebooks/mnist recognition/test.csv')\n",
        "\n",
        "sample_submission = pd.read_csv('/content/drive/MyDrive/Colab Notebooks/mnist recognition/sample_submission.csv')\n",
        "\n",
        "train.head()"
      ],
      "metadata": {
        "colab": {
          "base_uri": "https://localhost:8080/",
          "height": 279
        },
        "id": "xNndg0YaUq2o",
        "outputId": "b0862ba5-628b-42fb-9396-c53cf739f620"
      },
      "execution_count": null,
      "outputs": [
        {
          "output_type": "execute_result",
          "data": {
            "text/plain": [
              "   label  pixel0  pixel1  pixel2  pixel3  pixel4  pixel5  pixel6  pixel7  \\\n",
              "0      1       0       0       0       0       0       0       0       0   \n",
              "1      0       0       0       0       0       0       0       0       0   \n",
              "2      1       0       0       0       0       0       0       0       0   \n",
              "3      4       0       0       0       0       0       0       0       0   \n",
              "4      0       0       0       0       0       0       0       0       0   \n",
              "\n",
              "   pixel8  ...  pixel774  pixel775  pixel776  pixel777  pixel778  pixel779  \\\n",
              "0       0  ...         0         0         0         0         0         0   \n",
              "1       0  ...         0         0         0         0         0         0   \n",
              "2       0  ...         0         0         0         0         0         0   \n",
              "3       0  ...         0         0         0         0         0         0   \n",
              "4       0  ...         0         0         0         0         0         0   \n",
              "\n",
              "   pixel780  pixel781  pixel782  pixel783  \n",
              "0         0         0         0         0  \n",
              "1         0         0         0         0  \n",
              "2         0         0         0         0  \n",
              "3         0         0         0         0  \n",
              "4         0         0         0         0  \n",
              "\n",
              "[5 rows x 785 columns]"
            ],
            "text/html": [
              "\n",
              "  <div id=\"df-63a35f25-9f4b-458c-8441-d90c7169e44d\">\n",
              "    <div class=\"colab-df-container\">\n",
              "      <div>\n",
              "<style scoped>\n",
              "    .dataframe tbody tr th:only-of-type {\n",
              "        vertical-align: middle;\n",
              "    }\n",
              "\n",
              "    .dataframe tbody tr th {\n",
              "        vertical-align: top;\n",
              "    }\n",
              "\n",
              "    .dataframe thead th {\n",
              "        text-align: right;\n",
              "    }\n",
              "</style>\n",
              "<table border=\"1\" class=\"dataframe\">\n",
              "  <thead>\n",
              "    <tr style=\"text-align: right;\">\n",
              "      <th></th>\n",
              "      <th>label</th>\n",
              "      <th>pixel0</th>\n",
              "      <th>pixel1</th>\n",
              "      <th>pixel2</th>\n",
              "      <th>pixel3</th>\n",
              "      <th>pixel4</th>\n",
              "      <th>pixel5</th>\n",
              "      <th>pixel6</th>\n",
              "      <th>pixel7</th>\n",
              "      <th>pixel8</th>\n",
              "      <th>...</th>\n",
              "      <th>pixel774</th>\n",
              "      <th>pixel775</th>\n",
              "      <th>pixel776</th>\n",
              "      <th>pixel777</th>\n",
              "      <th>pixel778</th>\n",
              "      <th>pixel779</th>\n",
              "      <th>pixel780</th>\n",
              "      <th>pixel781</th>\n",
              "      <th>pixel782</th>\n",
              "      <th>pixel783</th>\n",
              "    </tr>\n",
              "  </thead>\n",
              "  <tbody>\n",
              "    <tr>\n",
              "      <th>0</th>\n",
              "      <td>1</td>\n",
              "      <td>0</td>\n",
              "      <td>0</td>\n",
              "      <td>0</td>\n",
              "      <td>0</td>\n",
              "      <td>0</td>\n",
              "      <td>0</td>\n",
              "      <td>0</td>\n",
              "      <td>0</td>\n",
              "      <td>0</td>\n",
              "      <td>...</td>\n",
              "      <td>0</td>\n",
              "      <td>0</td>\n",
              "      <td>0</td>\n",
              "      <td>0</td>\n",
              "      <td>0</td>\n",
              "      <td>0</td>\n",
              "      <td>0</td>\n",
              "      <td>0</td>\n",
              "      <td>0</td>\n",
              "      <td>0</td>\n",
              "    </tr>\n",
              "    <tr>\n",
              "      <th>1</th>\n",
              "      <td>0</td>\n",
              "      <td>0</td>\n",
              "      <td>0</td>\n",
              "      <td>0</td>\n",
              "      <td>0</td>\n",
              "      <td>0</td>\n",
              "      <td>0</td>\n",
              "      <td>0</td>\n",
              "      <td>0</td>\n",
              "      <td>0</td>\n",
              "      <td>...</td>\n",
              "      <td>0</td>\n",
              "      <td>0</td>\n",
              "      <td>0</td>\n",
              "      <td>0</td>\n",
              "      <td>0</td>\n",
              "      <td>0</td>\n",
              "      <td>0</td>\n",
              "      <td>0</td>\n",
              "      <td>0</td>\n",
              "      <td>0</td>\n",
              "    </tr>\n",
              "    <tr>\n",
              "      <th>2</th>\n",
              "      <td>1</td>\n",
              "      <td>0</td>\n",
              "      <td>0</td>\n",
              "      <td>0</td>\n",
              "      <td>0</td>\n",
              "      <td>0</td>\n",
              "      <td>0</td>\n",
              "      <td>0</td>\n",
              "      <td>0</td>\n",
              "      <td>0</td>\n",
              "      <td>...</td>\n",
              "      <td>0</td>\n",
              "      <td>0</td>\n",
              "      <td>0</td>\n",
              "      <td>0</td>\n",
              "      <td>0</td>\n",
              "      <td>0</td>\n",
              "      <td>0</td>\n",
              "      <td>0</td>\n",
              "      <td>0</td>\n",
              "      <td>0</td>\n",
              "    </tr>\n",
              "    <tr>\n",
              "      <th>3</th>\n",
              "      <td>4</td>\n",
              "      <td>0</td>\n",
              "      <td>0</td>\n",
              "      <td>0</td>\n",
              "      <td>0</td>\n",
              "      <td>0</td>\n",
              "      <td>0</td>\n",
              "      <td>0</td>\n",
              "      <td>0</td>\n",
              "      <td>0</td>\n",
              "      <td>...</td>\n",
              "      <td>0</td>\n",
              "      <td>0</td>\n",
              "      <td>0</td>\n",
              "      <td>0</td>\n",
              "      <td>0</td>\n",
              "      <td>0</td>\n",
              "      <td>0</td>\n",
              "      <td>0</td>\n",
              "      <td>0</td>\n",
              "      <td>0</td>\n",
              "    </tr>\n",
              "    <tr>\n",
              "      <th>4</th>\n",
              "      <td>0</td>\n",
              "      <td>0</td>\n",
              "      <td>0</td>\n",
              "      <td>0</td>\n",
              "      <td>0</td>\n",
              "      <td>0</td>\n",
              "      <td>0</td>\n",
              "      <td>0</td>\n",
              "      <td>0</td>\n",
              "      <td>0</td>\n",
              "      <td>...</td>\n",
              "      <td>0</td>\n",
              "      <td>0</td>\n",
              "      <td>0</td>\n",
              "      <td>0</td>\n",
              "      <td>0</td>\n",
              "      <td>0</td>\n",
              "      <td>0</td>\n",
              "      <td>0</td>\n",
              "      <td>0</td>\n",
              "      <td>0</td>\n",
              "    </tr>\n",
              "  </tbody>\n",
              "</table>\n",
              "<p>5 rows × 785 columns</p>\n",
              "</div>\n",
              "      <button class=\"colab-df-convert\" onclick=\"convertToInteractive('df-63a35f25-9f4b-458c-8441-d90c7169e44d')\"\n",
              "              title=\"Convert this dataframe to an interactive table.\"\n",
              "              style=\"display:none;\">\n",
              "        \n",
              "  <svg xmlns=\"http://www.w3.org/2000/svg\" height=\"24px\"viewBox=\"0 0 24 24\"\n",
              "       width=\"24px\">\n",
              "    <path d=\"M0 0h24v24H0V0z\" fill=\"none\"/>\n",
              "    <path d=\"M18.56 5.44l.94 2.06.94-2.06 2.06-.94-2.06-.94-.94-2.06-.94 2.06-2.06.94zm-11 1L8.5 8.5l.94-2.06 2.06-.94-2.06-.94L8.5 2.5l-.94 2.06-2.06.94zm10 10l.94 2.06.94-2.06 2.06-.94-2.06-.94-.94-2.06-.94 2.06-2.06.94z\"/><path d=\"M17.41 7.96l-1.37-1.37c-.4-.4-.92-.59-1.43-.59-.52 0-1.04.2-1.43.59L10.3 9.45l-7.72 7.72c-.78.78-.78 2.05 0 2.83L4 21.41c.39.39.9.59 1.41.59.51 0 1.02-.2 1.41-.59l7.78-7.78 2.81-2.81c.8-.78.8-2.07 0-2.86zM5.41 20L4 18.59l7.72-7.72 1.47 1.35L5.41 20z\"/>\n",
              "  </svg>\n",
              "      </button>\n",
              "      \n",
              "  <style>\n",
              "    .colab-df-container {\n",
              "      display:flex;\n",
              "      flex-wrap:wrap;\n",
              "      gap: 12px;\n",
              "    }\n",
              "\n",
              "    .colab-df-convert {\n",
              "      background-color: #E8F0FE;\n",
              "      border: none;\n",
              "      border-radius: 50%;\n",
              "      cursor: pointer;\n",
              "      display: none;\n",
              "      fill: #1967D2;\n",
              "      height: 32px;\n",
              "      padding: 0 0 0 0;\n",
              "      width: 32px;\n",
              "    }\n",
              "\n",
              "    .colab-df-convert:hover {\n",
              "      background-color: #E2EBFA;\n",
              "      box-shadow: 0px 1px 2px rgba(60, 64, 67, 0.3), 0px 1px 3px 1px rgba(60, 64, 67, 0.15);\n",
              "      fill: #174EA6;\n",
              "    }\n",
              "\n",
              "    [theme=dark] .colab-df-convert {\n",
              "      background-color: #3B4455;\n",
              "      fill: #D2E3FC;\n",
              "    }\n",
              "\n",
              "    [theme=dark] .colab-df-convert:hover {\n",
              "      background-color: #434B5C;\n",
              "      box-shadow: 0px 1px 3px 1px rgba(0, 0, 0, 0.15);\n",
              "      filter: drop-shadow(0px 1px 2px rgba(0, 0, 0, 0.3));\n",
              "      fill: #FFFFFF;\n",
              "    }\n",
              "  </style>\n",
              "\n",
              "      <script>\n",
              "        const buttonEl =\n",
              "          document.querySelector('#df-63a35f25-9f4b-458c-8441-d90c7169e44d button.colab-df-convert');\n",
              "        buttonEl.style.display =\n",
              "          google.colab.kernel.accessAllowed ? 'block' : 'none';\n",
              "\n",
              "        async function convertToInteractive(key) {\n",
              "          const element = document.querySelector('#df-63a35f25-9f4b-458c-8441-d90c7169e44d');\n",
              "          const dataTable =\n",
              "            await google.colab.kernel.invokeFunction('convertToInteractive',\n",
              "                                                     [key], {});\n",
              "          if (!dataTable) return;\n",
              "\n",
              "          const docLinkHtml = 'Like what you see? Visit the ' +\n",
              "            '<a target=\"_blank\" href=https://colab.research.google.com/notebooks/data_table.ipynb>data table notebook</a>'\n",
              "            + ' to learn more about interactive tables.';\n",
              "          element.innerHTML = '';\n",
              "          dataTable['output_type'] = 'display_data';\n",
              "          await google.colab.output.renderOutput(dataTable, element);\n",
              "          const docLink = document.createElement('div');\n",
              "          docLink.innerHTML = docLinkHtml;\n",
              "          element.appendChild(docLink);\n",
              "        }\n",
              "      </script>\n",
              "    </div>\n",
              "  </div>\n",
              "  "
            ]
          },
          "metadata": {},
          "execution_count": 147
        }
      ]
    },
    {
      "cell_type": "code",
      "source": [
        "img_label = rng.choice(train.label)\n",
        "img = train[train['label'] == img_label].to_numpy()[0, 1:].reshape(28, 28)\n",
        "\n",
        "plt.figure(figsize=(6, 6))\n",
        "plt.pcolormesh(np.flip(img, 0), cmap = 'Greys')\n",
        "plt.colorbar()"
      ],
      "metadata": {
        "id": "X3DDiZChZLlM",
        "colab": {
          "base_uri": "https://localhost:8080/",
          "height": 392
        },
        "outputId": "b28ae0a1-859b-45c1-c555-6e91dc674865"
      },
      "execution_count": null,
      "outputs": [
        {
          "output_type": "execute_result",
          "data": {
            "text/plain": [
              "<matplotlib.colorbar.Colorbar at 0x7f7626129250>"
            ]
          },
          "metadata": {},
          "execution_count": 149
        },
        {
          "output_type": "display_data",
          "data": {
            "text/plain": [
              "<Figure size 432x432 with 2 Axes>"
            ],
            "image/png": "[encoded data removed]"
          },
          "metadata": {
            "needs_background": "light"
          }
        }
      ]
    },
    {
      "cell_type": "code",
      "source": [
        "train_x, train_y = train.to_numpy()[:, 1:] / 255, keras.utils.np_utils.to_categorical(train.label.values)\n",
        "test_x, test_y = test.to_numpy()[:, :] / 255, None"
      ],
      "metadata": {
        "id": "egcmDbAVof3i"
      },
      "execution_count": null,
      "outputs": []
    },
    {
      "cell_type": "code",
      "source": [
        "split_size = int(train_x.shape[0]*0.7)\n",
        "\n",
        "train_x, val_x = train_x[:split_size], train_x[split_size:]\n",
        "train_y, val_y = train_y[:split_size], train_y[split_size:]"
      ],
      "metadata": {
        "id": "N8mn4RvevXfP"
      },
      "execution_count": null,
      "outputs": []
    },
    {
      "cell_type": "code",
      "source": [
        "train.label[split_size:]"
      ],
      "metadata": {
        "colab": {
          "base_uri": "https://localhost:8080/"
        },
        "id": "qUEDwmL9wYbm",
        "outputId": "e263f179-5faf-4f18-85b9-42320a927c63"
      },
      "execution_count": null,
      "outputs": [
        {
          "output_type": "execute_result",
          "data": {
            "text/plain": [
              "29399    1\n",
              "29400    3\n",
              "29401    2\n",
              "29402    7\n",
              "29403    6\n",
              "        ..\n",
              "41995    0\n",
              "41996    1\n",
              "41997    7\n",
              "41998    6\n",
              "41999    9\n",
              "Name: label, Length: 12601, dtype: int64"
            ]
          },
          "metadata": {},
          "execution_count": 44
        }
      ]
    },
    {
      "cell_type": "code",
      "source": [
        "# define vars\n",
        "input_num_units = 784\n",
        "hidden_num_units = 50\n",
        "output_num_units = 10\n",
        "\n",
        "epochs = 5\n",
        "batch_size = 128\n",
        "\n",
        "\n",
        "# create model\n",
        "model = Sequential([\n",
        "  Dense(input_num_units, activation='relu'),\n",
        "  Dense(output_num_units, activation='softmax'),\n",
        "])\n",
        "\n",
        "# compile the model with necessary attributes\n",
        "model.compile(loss='categorical_crossentropy', optimizer='adam', metrics=['accuracy'])"
      ],
      "metadata": {
        "id": "MhqYWlyQwcDa"
      },
      "execution_count": null,
      "outputs": []
    },
    {
      "cell_type": "code",
      "source": [
        "trained_model = model.fit(train_x, train_y, epochs=epochs, batch_size=batch_size, validation_data=(val_x, val_y))"
      ],
      "metadata": {
        "colab": {
          "base_uri": "https://localhost:8080/"
        },
        "id": "3P3dM8o6xteP",
        "outputId": "432c3a57-9f2a-4b10-a9b4-cb64358161b7"
      },
      "execution_count": null,
      "outputs": [
        {
          "output_type": "stream",
          "name": "stdout",
          "text": [
            "Epoch 1/5\n",
            "230/230 [==============================] - 4s 15ms/step - loss: 0.3345 - accuracy: 0.9018 - val_loss: 0.1699 - val_accuracy: 0.9521\n",
            "Epoch 2/5\n",
            "230/230 [==============================] - 3s 14ms/step - loss: 0.1376 - accuracy: 0.9604 - val_loss: 0.1294 - val_accuracy: 0.9617\n",
            "Epoch 3/5\n",
            "230/230 [==============================] - 3s 14ms/step - loss: 0.0869 - accuracy: 0.9744 - val_loss: 0.0990 - val_accuracy: 0.9698\n",
            "Epoch 4/5\n",
            "230/230 [==============================] - 3s 14ms/step - loss: 0.0591 - accuracy: 0.9836 - val_loss: 0.0945 - val_accuracy: 0.9698\n",
            "Epoch 5/5\n",
            "230/230 [==============================] - 3s 14ms/step - loss: 0.0408 - accuracy: 0.9888 - val_loss: 0.0877 - val_accuracy: 0.9729\n"
          ]
        }
      ]
    },
    {
      "cell_type": "code",
      "source": [
        "index_choice = rng.choice(range(test.shape[0]))\n",
        "\n",
        "img = test_x[index_choice, :]\n",
        "img = img.reshape(1, 784)\n",
        "\n",
        "result = [[i, j] for i, j in enumerate(model.predict(img).tolist()[0])]\n",
        "result = sorted(result, key=lambda x: x[1], reverse=True)\n",
        "\n",
        "print(\"Prediction is: \", result[0][0])\n",
        "\n",
        "plt.figure(figsize=(6, 6))\n",
        "plt.pcolormesh(np.flip(img.reshape(28, 28)*255, 0), cmap = 'Greys')\n",
        "plt.colorbar()"
      ],
      "metadata": {
        "colab": {
          "base_uri": "https://localhost:8080/",
          "height": 410
        },
        "id": "aY1z0xJ5zVzH",
        "outputId": "1aa2fdb1-d759-48e4-dd20-fe3414b5e147"
      },
      "execution_count": null,
      "outputs": [
        {
          "output_type": "stream",
          "name": "stdout",
          "text": [
            "Prediction is:  8\n"
          ]
        },
        {
          "output_type": "execute_result",
          "data": {
            "text/plain": [
              "<matplotlib.colorbar.Colorbar at 0x7f761ffa9950>"
            ]
          },
          "metadata": {},
          "execution_count": 136
        },
        {
          "output_type": "display_data",
          "data": {
            "text/plain": [
              "<Figure size 432x432 with 2 Axes>"
            ],
            "image/png": "[encoded data removed]"
          },
          "metadata": {
            "needs_background": "light"
          }
        }
      ]
    },
    {
      "cell_type": "code",
      "source": [
        "predicted_test = model.predict(test_x)"
      ],
      "metadata": {
        "id": "5vS0NhLi-nh2"
      },
      "execution_count": null,
      "outputs": []
    },
    {
      "cell_type": "code",
      "source": [
        "label = []\n",
        "file_array = []\n",
        "for res in predicted_test[:10]:\n",
        "  enum_res = [[i, j] for i, j in enumerate(res.tolist())]\n",
        "  enum_res = sorted(enum_res, key=lambda x: x[1], reverse=True)\n",
        "  label.append(enum_res[0][0])\n",
        "  file_array.append(res)\n",
        "submit = {'label': label, 'file_array': file_array}\n",
        "submit = pd.DataFrame(submit)\n",
        "submit.to_csv('/content/drive/MyDrive/Colab Notebooks/mnist recognition/sample_submission.csv', index=False)"
      ],
      "metadata": {
        "id": "34GcpSJu_ZmJ"
      },
      "execution_count": null,
      "outputs": []
    },
    {
      "cell_type": "code",
      "source": [
        "sample_submission = pd.read_csv('/content/drive/MyDrive/Colab Notebooks/mnist recognition/sample_submission.csv')\n",
        "sample_submission.head()"
      ],
      "metadata": {
        "colab": {
          "base_uri": "https://localhost:8080/",
          "height": 206
        },
        "id": "bMWvEs3d_gxV",
        "outputId": "954fe6c3-97ed-4f67-ae86-52e6df803581"
      },
      "execution_count": null,
      "outputs": [
        {
          "output_type": "execute_result",
          "data": {
            "text/plain": [
              "   label                                         file_array\n",
              "0      2  [3.6861323e-07 2.5429955e-11 9.9999869e-01 4.4...\n",
              "1      0  [9.9999273e-01 1.6886754e-09 7.3693386e-08 3.5...\n",
              "2      9  [7.5633679e-06 1.7624923e-04 5.3742446e-04 1.4...\n",
              "3      9  [1.1064166e-01 4.8893421e-06 2.6148630e-02 2.7...\n",
              "4      3  [1.0560391e-06 2.6108706e-05 1.1152901e-03 9.9..."
            ],
            "text/html": [
              "\n",
              "  <div id=\"df-d6302e96-789a-41ea-a295-13455108ee7d\">\n",
              "    <div class=\"colab-df-container\">\n",
              "      <div>\n",
              "<style scoped>\n",
              "    .dataframe tbody tr th:only-of-type {\n",
              "        vertical-align: middle;\n",
              "    }\n",
              "\n",
              "    .dataframe tbody tr th {\n",
              "        vertical-align: top;\n",
              "    }\n",
              "\n",
              "    .dataframe thead th {\n",
              "        text-align: right;\n",
              "    }\n",
              "</style>\n",
              "<table border=\"1\" class=\"dataframe\">\n",
              "  <thead>\n",
              "    <tr style=\"text-align: right;\">\n",
              "      <th></th>\n",
              "      <th>label</th>\n",
              "      <th>file_array</th>\n",
              "    </tr>\n",
              "  </thead>\n",
              "  <tbody>\n",
              "    <tr>\n",
              "      <th>0</th>\n",
              "      <td>2</td>\n",
              "      <td>[3.6861323e-07 2.5429955e-11 9.9999869e-01 4.4...</td>\n",
              "    </tr>\n",
              "    <tr>\n",
              "      <th>1</th>\n",
              "      <td>0</td>\n",
              "      <td>[9.9999273e-01 1.6886754e-09 7.3693386e-08 3.5...</td>\n",
              "    </tr>\n",
              "    <tr>\n",
              "      <th>2</th>\n",
              "      <td>9</td>\n",
              "      <td>[7.5633679e-06 1.7624923e-04 5.3742446e-04 1.4...</td>\n",
              "    </tr>\n",
              "    <tr>\n",
              "      <th>3</th>\n",
              "      <td>9</td>\n",
              "      <td>[1.1064166e-01 4.8893421e-06 2.6148630e-02 2.7...</td>\n",
              "    </tr>\n",
              "    <tr>\n",
              "      <th>4</th>\n",
              "      <td>3</td>\n",
              "      <td>[1.0560391e-06 2.6108706e-05 1.1152901e-03 9.9...</td>\n",
              "    </tr>\n",
              "  </tbody>\n",
              "</table>\n",
              "</div>\n",
              "      <button class=\"colab-df-convert\" onclick=\"convertToInteractive('df-d6302e96-789a-41ea-a295-13455108ee7d')\"\n",
              "              title=\"Convert this dataframe to an interactive table.\"\n",
              "              style=\"display:none;\">\n",
              "        \n",
              "  <svg xmlns=\"http://www.w3.org/2000/svg\" height=\"24px\"viewBox=\"0 0 24 24\"\n",
              "       width=\"24px\">\n",
              "    <path d=\"M0 0h24v24H0V0z\" fill=\"none\"/>\n",
              "    <path d=\"M18.56 5.44l.94 2.06.94-2.06 2.06-.94-2.06-.94-.94-2.06-.94 2.06-2.06.94zm-11 1L8.5 8.5l.94-2.06 2.06-.94-2.06-.94L8.5 2.5l-.94 2.06-2.06.94zm10 10l.94 2.06.94-2.06 2.06-.94-2.06-.94-.94-2.06-.94 2.06-2.06.94z\"/><path d=\"M17.41 7.96l-1.37-1.37c-.4-.4-.92-.59-1.43-.59-.52 0-1.04.2-1.43.59L10.3 9.45l-7.72 7.72c-.78.78-.78 2.05 0 2.83L4 21.41c.39.39.9.59 1.41.59.51 0 1.02-.2 1.41-.59l7.78-7.78 2.81-2.81c.8-.78.8-2.07 0-2.86zM5.41 20L4 18.59l7.72-7.72 1.47 1.35L5.41 20z\"/>\n",
              "  </svg>\n",
              "      </button>\n",
              "      \n",
              "  <style>\n",
              "    .colab-df-container {\n",
              "      display:flex;\n",
              "      flex-wrap:wrap;\n",
              "      gap: 12px;\n",
              "    }\n",
              "\n",
              "    .colab-df-convert {\n",
              "      background-color: #E8F0FE;\n",
              "      border: none;\n",
              "      border-radius: 50%;\n",
              "      cursor: pointer;\n",
              "      display: none;\n",
              "      fill: #1967D2;\n",
              "      height: 32px;\n",
              "      padding: 0 0 0 0;\n",
              "      width: 32px;\n",
              "    }\n",
              "\n",
              "    .colab-df-convert:hover {\n",
              "      background-color: #E2EBFA;\n",
              "      box-shadow: 0px 1px 2px rgba(60, 64, 67, 0.3), 0px 1px 3px 1px rgba(60, 64, 67, 0.15);\n",
              "      fill: #174EA6;\n",
              "    }\n",
              "\n",
              "    [theme=dark] .colab-df-convert {\n",
              "      background-color: #3B4455;\n",
              "      fill: #D2E3FC;\n",
              "    }\n",
              "\n",
              "    [theme=dark] .colab-df-convert:hover {\n",
              "      background-color: #434B5C;\n",
              "      box-shadow: 0px 1px 3px 1px rgba(0, 0, 0, 0.15);\n",
              "      filter: drop-shadow(0px 1px 2px rgba(0, 0, 0, 0.3));\n",
              "      fill: #FFFFFF;\n",
              "    }\n",
              "  </style>\n",
              "\n",
              "      <script>\n",
              "        const buttonEl =\n",
              "          document.querySelector('#df-d6302e96-789a-41ea-a295-13455108ee7d button.colab-df-convert');\n",
              "        buttonEl.style.display =\n",
              "          google.colab.kernel.accessAllowed ? 'block' : 'none';\n",
              "\n",
              "        async function convertToInteractive(key) {\n",
              "          const element = document.querySelector('#df-d6302e96-789a-41ea-a295-13455108ee7d');\n",
              "          const dataTable =\n",
              "            await google.colab.kernel.invokeFunction('convertToInteractive',\n",
              "                                                     [key], {});\n",
              "          if (!dataTable) return;\n",
              "\n",
              "          const docLinkHtml = 'Like what you see? Visit the ' +\n",
              "            '<a target=\"_blank\" href=https://colab.research.google.com/notebooks/data_table.ipynb>data table notebook</a>'\n",
              "            + ' to learn more about interactive tables.';\n",
              "          element.innerHTML = '';\n",
              "          dataTable['output_type'] = 'display_data';\n",
              "          await google.colab.output.renderOutput(dataTable, element);\n",
              "          const docLink = document.createElement('div');\n",
              "          docLink.innerHTML = docLinkHtml;\n",
              "          element.appendChild(docLink);\n",
              "        }\n",
              "      </script>\n",
              "    </div>\n",
              "  </div>\n",
              "  "
            ]
          },
          "metadata": {},
          "execution_count": 135
        }
      ]
    },
    {
      "cell_type": "code",
      "source": [
        "# define vars\n",
        "input_num_units = 784\n",
        "hidden1_num_units = 50\n",
        "hidden2_num_units = 50\n",
        "hidden3_num_units = 50\n",
        "hidden4_num_units = 50\n",
        "hidden5_num_units = 50\n",
        "output_num_units = 10\n",
        "\n",
        "epochs = 25\n",
        "batch_size = 128\n",
        "\n",
        "model2 = Sequential([\n",
        " Dense(input_num_units, activation='relu'),\n",
        " Dropout(0.2),\n",
        " Dense(hidden1_num_units, activation='relu'),\n",
        " Dropout(0.2),\n",
        " Dense(hidden2_num_units, activation='relu'),\n",
        " Dropout(0.2),\n",
        " Dense(hidden3_num_units, activation='relu'),\n",
        " Dropout(0.2),\n",
        " Dense(hidden4_num_units, activation='relu'),\n",
        " Dropout(0.2),\n",
        " Dense(output_num_units, activation='softmax'),\n",
        "])"
      ],
      "metadata": {
        "id": "LXtXEPHyD9JK"
      },
      "execution_count": null,
      "outputs": []
    },
    {
      "cell_type": "code",
      "source": [
        "model2.compile(loss='categorical_crossentropy', optimizer='adam', metrics=['accuracy'])\n",
        "trained_model_5d = model.fit(train_x, train_y, epochs=epochs, batch_size=batch_size, validation_data=(val_x, val_y))"
      ],
      "metadata": {
        "colab": {
          "base_uri": "https://localhost:8080/"
        },
        "id": "kBYr6dwPGoqa",
        "outputId": "8072535b-0753-4f83-e0c8-e807381ea940"
      },
      "execution_count": null,
      "outputs": [
        {
          "output_type": "stream",
          "name": "stdout",
          "text": [
            "Epoch 1/25\n",
            "329/329 [==============================] - 4s 13ms/step - loss: 0.0102 - accuracy: 0.9968 - val_loss: 0.0249 - val_accuracy: 0.9934\n",
            "Epoch 2/25\n",
            "329/329 [==============================] - 4s 13ms/step - loss: 0.0072 - accuracy: 0.9980 - val_loss: 0.0030 - val_accuracy: 0.9995\n",
            "Epoch 3/25\n",
            "329/329 [==============================] - 4s 13ms/step - loss: 0.0030 - accuracy: 0.9994 - val_loss: 0.0011 - val_accuracy: 0.9998\n",
            "Epoch 4/25\n",
            "329/329 [==============================] - 4s 13ms/step - loss: 0.0029 - accuracy: 0.9992 - val_loss: 0.0060 - val_accuracy: 0.9983\n",
            "Epoch 5/25\n",
            "329/329 [==============================] - 4s 13ms/step - loss: 0.0086 - accuracy: 0.9974 - val_loss: 0.0028 - val_accuracy: 0.9994\n",
            "Epoch 6/25\n",
            "329/329 [==============================] - 4s 13ms/step - loss: 0.0059 - accuracy: 0.9982 - val_loss: 0.0016 - val_accuracy: 0.9998\n",
            "Epoch 7/25\n",
            "329/329 [==============================] - 4s 13ms/step - loss: 0.0017 - accuracy: 0.9996 - val_loss: 7.3923e-04 - val_accuracy: 0.9999\n",
            "Epoch 8/25\n",
            "329/329 [==============================] - 4s 13ms/step - loss: 4.6536e-04 - accuracy: 1.0000 - val_loss: 2.2278e-04 - val_accuracy: 1.0000\n",
            "Epoch 9/25\n",
            "329/329 [==============================] - 4s 13ms/step - loss: 2.0484e-04 - accuracy: 1.0000 - val_loss: 1.6377e-04 - val_accuracy: 1.0000\n",
            "Epoch 10/25\n",
            "329/329 [==============================] - 4s 13ms/step - loss: 1.5906e-04 - accuracy: 1.0000 - val_loss: 1.3558e-04 - val_accuracy: 1.0000\n",
            "Epoch 11/25\n",
            "329/329 [==============================] - 4s 13ms/step - loss: 1.3292e-04 - accuracy: 1.0000 - val_loss: 1.1687e-04 - val_accuracy: 1.0000\n",
            "Epoch 12/25\n",
            "329/329 [==============================] - 4s 13ms/step - loss: 1.1383e-04 - accuracy: 1.0000 - val_loss: 1.0134e-04 - val_accuracy: 1.0000\n",
            "Epoch 13/25\n",
            "329/329 [==============================] - 4s 13ms/step - loss: 1.0431e-04 - accuracy: 1.0000 - val_loss: 9.5313e-05 - val_accuracy: 1.0000\n",
            "Epoch 14/25\n",
            "329/329 [==============================] - 4s 13ms/step - loss: 8.9593e-05 - accuracy: 1.0000 - val_loss: 7.6479e-05 - val_accuracy: 1.0000\n",
            "Epoch 15/25\n",
            "329/329 [==============================] - 4s 13ms/step - loss: 7.7486e-05 - accuracy: 1.0000 - val_loss: 6.8029e-05 - val_accuracy: 1.0000\n",
            "Epoch 16/25\n",
            "329/329 [==============================] - 4s 13ms/step - loss: 6.8177e-05 - accuracy: 1.0000 - val_loss: 6.0587e-05 - val_accuracy: 1.0000\n",
            "Epoch 17/25\n",
            "329/329 [==============================] - 4s 13ms/step - loss: 6.0458e-05 - accuracy: 1.0000 - val_loss: 5.2591e-05 - val_accuracy: 1.0000\n",
            "Epoch 18/25\n",
            "329/329 [==============================] - 4s 13ms/step - loss: 5.4283e-05 - accuracy: 1.0000 - val_loss: 4.8796e-05 - val_accuracy: 1.0000\n",
            "Epoch 19/25\n",
            "329/329 [==============================] - 4s 13ms/step - loss: 4.7425e-05 - accuracy: 1.0000 - val_loss: 4.2566e-05 - val_accuracy: 1.0000\n",
            "Epoch 20/25\n",
            "329/329 [==============================] - 4s 13ms/step - loss: 4.2386e-05 - accuracy: 1.0000 - val_loss: 3.5713e-05 - val_accuracy: 1.0000\n",
            "Epoch 21/25\n",
            "329/329 [==============================] - 4s 13ms/step - loss: 3.7830e-05 - accuracy: 1.0000 - val_loss: 3.2199e-05 - val_accuracy: 1.0000\n",
            "Epoch 22/25\n",
            "329/329 [==============================] - 4s 13ms/step - loss: 3.2186e-05 - accuracy: 1.0000 - val_loss: 2.9636e-05 - val_accuracy: 1.0000\n",
            "Epoch 23/25\n",
            "329/329 [==============================] - 4s 13ms/step - loss: 2.8853e-05 - accuracy: 1.0000 - val_loss: 2.5239e-05 - val_accuracy: 1.0000\n",
            "Epoch 24/25\n",
            "329/329 [==============================] - 4s 13ms/step - loss: 2.4787e-05 - accuracy: 1.0000 - val_loss: 2.1542e-05 - val_accuracy: 1.0000\n",
            "Epoch 25/25\n",
            "329/329 [==============================] - 4s 13ms/step - loss: 2.1515e-05 - accuracy: 1.0000 - val_loss: 1.9614e-05 - val_accuracy: 1.0000\n"
          ]
        }
      ]
    },
    {
      "cell_type": "code",
      "source": [
        ""
      ],
      "metadata": {
        "id": "nIghXpe2G0dm"
      },
      "execution_count": null,
      "outputs": []
    }
  ]
}