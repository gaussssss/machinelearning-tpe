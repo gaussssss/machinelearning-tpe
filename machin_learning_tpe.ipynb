{
  "nbformat": 4,
  "nbformat_minor": 0,
  "metadata": {
    "colab": {
      "name": "machin-learning-tpe.ipynb",
      "provenance": [],
      "collapsed_sections": [],
      "authorship_tag": "ABX9TyPL94kO6mQMWo1yfghsXlFg",
      "include_colab_link": true
    },
    "kernelspec": {
      "name": "python3",
      "display_name": "Python 3"
    },
    "language_info": {
      "name": "python"
    }
  },
  "cells": [
    {
      "cell_type": "markdown",
      "metadata": {
        "id": "view-in-github",
        "colab_type": "text"
      },
      "source": [
        "<a href=\"https://colab.research.google.com/github/gaussssss/machinelearning-tpe/blob/main/machin_learning_tpe.ipynb\" target=\"_parent\"><img src=\"https://colab.research.google.com/assets/colab-badge.svg\" alt=\"Open In Colab\"/></a>"
      ]
    },
    {
      "cell_type": "markdown",
      "source": [
        "<h1>NoteBook de TPE d'apprentissage artificiel UY I Niveau 3 Info</h1>\n",
        "\n",
        "<h3>Liste des membres du TPE</h3>\n",
        "<ul>\n",
        "  <li>MOMENE TIYA Florian <strong>21S2785</strong></li>\n",
        "  <li>TEIDA NOUTSA Remi Raoul <strong>19M2447</strong></li>\n",
        "  <li>MBOCK NYENGUE Anne Claude <strong>19M2211</strong></li>\n",
        "  <li>EKOH FOUAPON NJIKAM Yvan <strong>19M2198</strong></li>\n",
        "</ul>"
      ],
      "metadata": {
        "id": "v5ak1kZkIMkt"
      }
    },
    {
      "cell_type": "code",
      "source": [
        ""
      ],
      "metadata": {
        "id": "I2ARefnlLZ47"
      },
      "execution_count": null,
      "outputs": []
    }
  ]
}