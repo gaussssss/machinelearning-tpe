{
  "nbformat": 4,
  "nbformat_minor": 0,
  "metadata": {
    "colab": {
      "name": "Boosting.ipynb",
      "provenance": [],
      "collapsed_sections": [],
      "include_colab_link": true
    },
    "kernelspec": {
      "name": "python3",
      "display_name": "Python 3"
    },
    "language_info": {
      "name": "python"
    }
  },
  "cells": [
    {
      "cell_type": "markdown",
      "metadata": {
        "id": "view-in-github",
        "colab_type": "text"
      },
      "source": [
        "<a href=\"https://colab.research.google.com/github/gaussssss/machinelearning-tpe/blob/main/Boosting.ipynb\" target=\"_parent\"><img src=\"https://colab.research.google.com/assets/colab-badge.svg\" alt=\"Open In Colab\"/></a>"
      ]
    },
    {
      "cell_type": "markdown",
      "source": [
        "##BOOSTING À PARTIR DE ZÉRO AVEC PYTHON\n"
      ],
      "metadata": {
        "id": "W_mZz36ERgL8"
      }
    },
    {
      "cell_type": "code",
      "execution_count": null,
      "metadata": {
        "colab": {
          "base_uri": "https://localhost:8080/"
        },
        "id": "50ajsXUUQxJ2",
        "outputId": "68a703da-862f-43ba-ba8f-de6611f79ee9"
      },
      "outputs": [
        {
          "output_type": "stream",
          "name": "stdout",
          "text": [
            "Mounted at /content/drive/\n"
          ]
        }
      ],
      "source": [
        "\"\"\"\n",
        "Create a Decision Stump\n",
        "\"\"\"\n",
        "import numpy as np\n",
        "import matplotlib.pyplot as plt\n",
        "import pandas as pd\n",
        "from matplotlib import style\n",
        "style.use('fivethirtyeight')\n",
        "from sklearn.tree import DecisionTreeClassifier\n",
        "from sklearn.preprocessing import LabelEncoder\n",
        "from sklearn.model_selection import cross_validate\n",
        "import scipy.stats as sps\n",
        "from google.colab import drive\n",
        "drive.mount('/content/drive/')\n",
        "data_path = \"/content/drive/MyDrive/Colab Notebooks/random_forest/\"\n",
        "dataset = pd.read_csv(data_path+'agaricus-lepiota.data',header=None)\n"
      ]
    },
    {
      "cell_type": "code",
      "source": [
        "print(plt.style.available)"
      ],
      "metadata": {
        "colab": {
          "base_uri": "https://localhost:8080/"
        },
        "id": "PQrBsHO4Yq7G",
        "outputId": "2fc22fa7-7373-46f1-dac3-da257ffca052"
      },
      "execution_count": null,
      "outputs": [
        {
          "output_type": "stream",
          "name": "stdout",
          "text": [
            "['Solarize_Light2', '_classic_test_patch', 'bmh', 'classic', 'dark_background', 'fast', 'fivethirtyeight', 'ggplot', 'grayscale', 'seaborn', 'seaborn-bright', 'seaborn-colorblind', 'seaborn-dark', 'seaborn-dark-palette', 'seaborn-darkgrid', 'seaborn-deep', 'seaborn-muted', 'seaborn-notebook', 'seaborn-paper', 'seaborn-pastel', 'seaborn-poster', 'seaborn-talk', 'seaborn-ticks', 'seaborn-white', 'seaborn-whitegrid', 'tableau-colorblind10']\n"
          ]
        }
      ]
    },
    {
      "cell_type": "code",
      "source": [
        "# Charger les données et définir les étiquettes des colonnes\n",
        "dataset = pd.read_csv(data_path+'agaricus-lepiota.data',header=None)\n",
        "dataset = dataset.sample(frac=1)\n",
        "dataset.columns = ['target','cap-shape','cap-surface','cap-color','bruises',\n",
        "                   'odor','gill-attachment','gill-spacing',\n",
        "'gill-size','gill-color','stalk-shape','stalk-root',\n",
        "'stalk-surface-above-ring','stalk-surface-below-ring','stalk-color-above-ring',\n",
        "'stalk-color-below-ring','veil-type','veil-color',\n",
        "'ring-number','ring-type','spore-print-color','population',\n",
        "'habitat']\n",
        "# Encodez les valeurs des caractéristiques des chaînes en nombres entiers puisque le sklearn DecisionTreeClassifier ne prend que des valeurs numériques\n",
        "for label in dataset.columns:\n",
        "  dataset[label] = LabelEncoder().fit(dataset[label]).transform(dataset[label]) #Encodez les étiquettes cibles avec une valeur comprise entre 0 et n_classes-1\n",
        "Tree_model = DecisionTreeClassifier(criterion=\"entropy\",max_depth=1)\n",
        "X = dataset.drop('target',axis=1)\n",
        "Y = dataset['target'].where(dataset['target']==1,-1)\n",
        "predictions = np.mean(cross_validate(Tree_model,X,Y,cv=100)['test_score']) #utilisation de la validation croisée d'ordre 100\n",
        "print('The accuracy is: ',predictions*100,'%')\n"
      ],
      "metadata": {
        "colab": {
          "base_uri": "https://localhost:8080/"
        },
        "id": "r2OUcNO4RCaE",
        "outputId": "87374f6a-2381-447f-f7c7-201e5979f515"
      },
      "execution_count": null,
      "outputs": [
        {
          "output_type": "stream",
          "name": "stdout",
          "text": [
            "The accuracy is:  73.06790123456791 %\n"
          ]
        }
      ]
    },
    {
      "cell_type": "markdown",
      "source": [
        "criterion:La fonction pour mesurer la qualité d'une division.\n",
        "max_depth:La profondeur maximale de l'arbre\n",
        "entropy:mésure pour déterminer le gain d'information"
      ],
      "metadata": {
        "id": "rXOtFULUdA3p"
      }
    },
    {
      "cell_type": "code",
      "source": [
        "class Boosting:\n",
        "  def __init__(self,dataset,T,test_dataset):\n",
        "    self.dataset = dataset\n",
        "    self.T = T\n",
        "    self.test_dataset = test_dataset\n",
        "    self.alphas = None\n",
        "    self.models = None\n",
        "    self.accuracy = []\n",
        "    self.predictions = None\n",
        "  def fit(self):\n",
        "    # Définissez les caractéristiques descriptives et la caractéristique cible\n",
        "    X = self.dataset.drop(['target'],axis=1)\n",
        "    Y = self.dataset['target'].where(self.dataset['target']==1,-1)\n",
        "    # Initialiser les poids de chaque échantillon avec wi = 1/N et créer une base de données dans laquelle l'évaluation est calculée\n",
        "    Evaluation = pd.DataFrame(Y.copy())\n",
        "    Evaluation['weights'] = 1/len(self.dataset) # Définir les poids initiaux w = 1/N\n",
        "    # Exécutez l'algorithme de boosting en créant T \"modèles pondérés\"\n",
        "    alphas = []\n",
        "    models = []\n",
        "    for t in range(self.T):\n",
        "    # Former le(s) support(s) de décision\n",
        "      Tree_model = DecisionTreeClassifier(criterion=\"entropy\",max_depth=1) \n",
        "      # Mind the deth one --> Decision Stump\n",
        "    # Nous savons que nous devons former nos souches de décision sur des ensembles de données pondérés où les poids dépendent des résultats de\n",
        "     # les souches de décision précédentes. Pour ce faire, nous utilisons la colonne \"pondérations\" de la création ci-dessus\n",
        "     # 'evaluation dataframe' avec le paramètre sample_weight de la méthode d'ajustement.\n",
        "     # La documentation pour le paramètre sample_weights dit : \"[...] Si aucun, alors les échantillons sont pondérés de manière égale.\"\n",
        "     # Par conséquent, si PAS Aucun, alors les échantillons ne sont PAS pondérés de manière égale et nous créons ainsi un ensemble de données PONDÉRÉ\n",
        "     # qui est exactement ce que nous voulons avoir.\n",
        "      model = Tree_model.fit(X,Y,sample_weight=np.array(Evaluation['weights']))\n",
        "    # Ajoutez les classificateurs faibles simples à une liste qui est ensuite utilisée pour faire le\n",
        "     # décision pondérée\n",
        "      models.append(model)\n",
        "      predictions = model.predict(X)\n",
        "      score = model.score(X,Y)\n",
        "    # Ajouter des valeurs au DataFrame d'évaluation\n",
        "      Evaluation['predictions'] = predictions\n",
        "      Evaluation['evaluation'] = np.where(Evaluation['predictions'] == Evaluation['target'],1,0)\n",
        "      Evaluation['misclassified'] = np.where(Evaluation['predictions'] != Evaluation['target'],1,0)\n",
        "    # Calculer le taux et la précision des erreurs de classification\n",
        "      accuracy = sum(Evaluation['evaluation'])/len(Evaluation['evaluation'])\n",
        "      misclassification = sum(Evaluation['misclassified'])/len(Evaluation['misclassified'])\n",
        "    # Calculer l'erreur\n",
        "      err = np.sum(Evaluation['weights']*Evaluation['misclassified'])/np.sum(Evaluation['weights'])\n",
        "    # Calculer les valeurs alpha\n",
        "      alpha = np.log((1-err)/err)\n",
        "      alphas.append(alpha)\n",
        "    # Mettre à jour les poids wi --> Ces poids mis à jour sont utilisés dans le paramètre sample_weight\n",
        "     # pour la formation de la prochaine souche de décision.\n",
        "      Evaluation['weights'] *= np.exp(alpha*Evaluation['misclassified'])\n",
        "    #print('The Accuracy of the {0}. model is : '.format(t+1),accuracy*100,'%')\n",
        "    #print('The missclassification rate is: ',misclassification*100,'%')\n",
        "    self.alphas = alphas\n",
        "    self.models = models\n",
        "  def predict(self):\n",
        "    X_test = self.test_dataset.drop(['target'],axis=1).reindex(range(len(self.test_dataset)))\n",
        "    Y_test = self.test_dataset['target'].reindex(range(len(self.test_dataset))).where(self.dataset['target']==1,-1)\n",
        "    #La fonction numpy.where() renvoie les indices des éléments dans un tableau d'entrée où la condition donnée est satisfaite.\n",
        "    # Avec chaque modèle de la liste self.model, faites une prédiction\n",
        "    accuracy = []\n",
        "    predictions = []\n",
        "    for alpha,model in zip(self.alphas,self.models):\n",
        "      prediction = alpha*model.predict(X_test) # Nous utilisons la méthode de prédiction pour les modèles de classement d'arbre de décision unique dans la liste\n",
        "      predictions.append(prediction)\n",
        "      self.accuracy.append(np.sum(np.sign(np.sum(np.array(predictions),axis=0))==Y_test.values)/len(predictions[0]))\n",
        "      # La ligne de code ci-dessus pourrait être un peu déroutante et je vais donc suivre les étapes simples :\n",
        "      # Objectif : Créer une liste de précisions qui peuvent être utilisées pour tracer la précision par rapport au nombre d'apprenants de base utilisés pour le modèle\n",
        "      # 1. np.array(predictions) --> C'est le tableau qui contient les prédictions des modèles individuels. Il a la forme 8124xn\n",
        "      # et ressemble donc à [[0.998,0.87,...0.87...],[...],[...],[0.99,1.23,...,1.05,0,99...] ]\n",
        "      # 2. np.sum(np.array(predictions),axis=0) --> Résume les premiers éléments des listes, soit 0,998+...+...+0.99. C'est\n",
        "      # terminé puisque la formule de prédiction veut que nous résumions les prédictions de tous les modèles pour chaque instance de l'ensemble de données.\n",
        "      # Par conséquent, si nous avons par exemple 3 modèles, le tableau des prédictions a la forme 8124x3 (Imaginez un tableau avec 3 colonnes et\n",
        "      # 8124 lignes). Ici, la première colonne contient les prédictions pour le premier modèle, la deuxième colonne contient les\n",
        "      # prédiction pour le deuxième modèle, la troisième colonne la prédiction pour le troisième modèle (n'oubliez pas que le\n",
        "      # le deuxième et le troisième modèle sont influencés par les résultats du premier respectivement le premier et le\n",
        "      # deuxième modèle). C'est logique puisque les résultats de la colonne (modèle)\n",
        "      # n-1 sont utilisés pour modifier les poids du nième modèle et les résultats du nième modèle sont ensuite utilisés pour modifier les poids\n",
        "      # du modèle n+1.\n",
        "      # 3. np.sign(np.sum(np.array(predictions),axis=0)) --> Puisque nos données cibles de test sont des éléments de {-1,1} et que nous voulons\n",
        "      # avons notre prédiction dans le même format, nous utilisons la fonction signe. Par conséquent, chaque colonne du tableau de précision est comme\n",
        "      # [-0.998,1.002,1.24,...,-0.89] et chaque élément représente la prédiction combinée et pondérée de tous les modèles jusqu'à cette colonne\n",
        "      # (donc si nous sommes par exemple dans la 5ème colonne et pour la 4ème instance nous trouvons la valeur -0.989, cette valeur représente la\n",
        "      # prédiction pondérée d'un modèle boosté avec 5 apprenants de base pour la 4ème instance. La 4ème instance de la 6ème colonne représente\n",
        "      # les prédictions pondérées et combinées d'un modèle boosté avec 6 apprenants de base tandis que la 4ème instance de la 4ème colonne représente\n",
        "      # la prédiction d'un modèle avec 4 apprenants de base et ainsi de suite...). Pour faire court, nous nous intéressons aux\n",
        "      # le signe de ces prédictions combinées. Si le signe est positif, nous savons que la vraie prédiction est plus probablement positive (1) alors\n",
        "      # négatif (-1). Plus la valeur (positive ou négative) est élevée, plus il est probable que le modèle renvoie la prédiction correcte.\n",
        "      # 4. np.sum(np.sign(np.sum(np.array(predictions),axis=0))==Y_test.values)/len(predictions[0]) --> Avec la dernière étape nous avons transformé le tableau\n",
        "      # dans la forme 8124x1 où les instances sont des éléments {-1,1} et nous sommes maintenant dans la situation de comparer ceci\n",
        "      # prédiction avec nos valeurs de caractéristiques cibles. Le tableau d'entités cible est de la forme 8124x1 puisque pour chaque ligne qu'il contient\n",
        "      # exactement une prédiction {-1,1} tout comme notre tableau que nous venons de créer ci-dessus --> Prêt à comparer ;).\n",
        "      # La comparaison se fait avec la commande == Y_test.values. Comme résultat on obtient un\n",
        "      # tableau de la forme 8124x1 où les instances sont des éléments de {True,False} (True si notre prédiction est cohérente avec la\n",
        "      # valeur de la caractéristique cible et False sinon). Puisque nous voulons calculer une valeur en pourcentage, nous devons calculer la fraction de\n",
        "      # instances correctement classées. Par conséquent, nous résumons simplement le tableau de comparaison ci-dessus\n",
        "      # avec les éléments {True,False} le long de l'axe 0.\n",
        "      # et divisez-le par le nombre total de lignes (8124) puisque True est égal à 1 et False est égal à 0. D'où des prédictions correctes\n",
        "      # augmenter la somme alors que les fausses prédictions ne changent pas la somme. Si nous n'avons rien prédit, corrigez le calcul en 0/8124 et\n",
        "      # avec 0 et si nous avons tout prédit correctement, le calcul est 8124/8124 et donc 1.\n",
        "      # 5. self.accuracy.append(np.sum(np.sign(np.sum(np.array(predictions),axis=0))==Y_test.values)/len(predictions[0])) -- >\n",
        "      # Après avoir calculé les étapes ci-dessus, nous ajoutons le résultat à la liste self.accuracy. Cette liste a la forme n x 1, c'est-à-dire\n",
        "      # pour un modèle avec 5 apprenants de base, cette liste a 5 entrées où la 5ème entrée représente la précision du modèle lorsque tous\n",
        "      # 5 apprenants de base sont combinés, le 4ème élément la précision du modèle lorsque 4 apprenants de base sont combinés et ainsi de suite. Cette\n",
        "      # la procédure a été expliquée ci-dessus. C'est tout et nous pouvons tracer la précision.\n",
        "    self.predictions = np.sign(np.sum(np.array(predictions),axis=0))\n",
        "\n",
        "######Plot the accuracy of the model against the number of stump-models used##########\n",
        "number_of_base_learners = 50\n",
        "fig = plt.figure(figsize=(10,10))\n",
        "ax0 = fig.add_subplot(111)\n",
        "for i in range(number_of_base_learners):\n",
        "  model = Boosting(dataset,i,dataset)\n",
        "  model.fit()\n",
        "  model.predict()\n",
        "ax0.plot(range(len(model.accuracy)),model.accuracy,'-b')\n",
        "ax0.set_xlabel('# models used for Boosting ')\n",
        "ax0.set_ylabel('accuracy')\n",
        "print('With a number of ',number_of_base_learners,'base models we receive an accuracy of ',model.accuracy[-1]*100,'%')\n",
        "plt.show()\n",
        "\n",
        "\n"
      ],
      "metadata": {
        "colab": {
          "base_uri": "https://localhost:8080/",
          "height": 671
        },
        "id": "qRdLRUWFRaNv",
        "outputId": "6c357272-c471-4c00-b8c1-ce08b46030e9"
      },
      "execution_count": null,
      "outputs": [
        {
          "output_type": "stream",
          "name": "stdout",
          "text": [
            "With a number of  50 base models we receive an accuracy of  98.67060561299851 %\n"
          ]
        },
        {
          "output_type": "display_data",
          "data": {
            "text/plain": [
              "<Figure size 720x720 with 1 Axes>"
            ],
            "image/png": "[encoded data removed]"
          },
          "metadata": {}
        }
      ]
    },
    {
      "cell_type": "markdown",
      "source": [
        "##BOOSTING USING SKLEARN"
      ],
      "metadata": {
        "id": "382NO96PU5hN"
      }
    },
    {
      "cell_type": "code",
      "source": [
        "from sklearn.ensemble import AdaBoostClassifier\n",
        "from sklearn.preprocessing import LabelEncoder\n",
        "from sklearn.tree import DecisionTreeClassifier\n",
        "for label in dataset.columns:\n",
        "  dataset[label] = LabelEncoder().fit(dataset[label]).transform(dataset[label])\n",
        "X = dataset.drop(['target'],axis=1)\n",
        "Y = dataset['target']\n",
        "#model = DecisionTreeClassifier(criterion='entropy',max_depth=1)\n",
        "#AdaBoost = AdaBoostClassifier(base_estimator= model,n_estimators=400,learning_rate=1)\n",
        "AdaBoost = AdaBoostClassifier(n_estimators=400,learning_rate=1,algorithm='SAMME')\n",
        "AdaBoost.fit(X,Y)\n",
        "prediction = AdaBoost.score(X,Y)\n",
        "print('The accuracy is: ',prediction*100,'%')\n"
      ],
      "metadata": {
        "id": "HfplxnRhSAJU",
        "colab": {
          "base_uri": "https://localhost:8080/"
        },
        "outputId": "a434e4e2-b7ff-436e-99f1-cdb4228d065a"
      },
      "execution_count": null,
      "outputs": [
        {
          "output_type": "stream",
          "name": "stdout",
          "text": [
            "The accuracy is:  100.0 %\n"
          ]
        }
      ]
    },
    {
      "cell_type": "markdown",
      "source": [
        "##Paramètre du classifieur Adaboost\n",
        "objet base_estimator , par défaut=Aucun:\n",
        "L'estimateur de base à partir duquel l'ensemble boosté est construit. La prise en charge de la pondération de l'échantillon est requise, ainsi que des attributs classes_et des n_classes_attributs appropriés. Si None, alors l'estimateur de base est DecisionTreeClassifier initialisé avec max_depth=1.\n",
        "\n",
        "n_estimators int, par défaut=50:\n",
        "Le nombre maximal d'estimateurs auquel l'amplification est terminée. En cas d'ajustement parfait, la procédure d'apprentissage est arrêtée prématurément. Les valeurs doivent être comprises dans la plage [1, inf).\n",
        "\n",
        "flottant du taux d'apprentissage , par défaut = 1,0:\n",
        "Pondération appliquée à chaque classifieur à chaque itération de boosting. Un taux d'apprentissage plus élevé augmente la contribution de chaque classifieur. Il existe un compromis entre les paramètres learning_rateet . n_estimatorsLes valeurs doivent être comprises dans la plage (0.0, inf).\n",
        "\n",
        "algorithme {'SAMME', 'SAMME.R'}, default='SAMME.R':\n",
        "Si 'SAMME.R', utilisez l'algorithme de boost réel SAMME.R. base_estimatordoit prendre en charge le calcul des probabilités de classe. Si 'SAMME', utilisez l'algorithme d'amplification discrète SAMME. L'algorithme SAMME.R converge généralement plus rapidement que SAMME, obtenant une erreur de test inférieure avec moins d'itérations de boosting.\n",
        "\n",
        "random_state int, instance RandomState ou None, default=None. "
      ],
      "metadata": {
        "id": "o9vbzr9vwoMW"
      }
    }
  ]
}