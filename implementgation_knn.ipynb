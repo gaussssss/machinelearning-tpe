{
  "nbformat": 4,
  "nbformat_minor": 0,
  "metadata": {
    "colab": {
      "name": "implementgation_knn.ipynb",
      "provenance": [],
      "collapsed_sections": [],
      "include_colab_link": true
    },
    "kernelspec": {
      "name": "python3",
      "display_name": "Python 3"
    },
    "language_info": {
      "name": "python"
    },
    "accelerator": "GPU"
  },
  "cells": [
    {
      "cell_type": "markdown",
      "metadata": {
        "id": "view-in-github",
        "colab_type": "text"
      },
      "source": [
        "<a href=\"https://colab.research.google.com/github/gaussssss/machinelearning-tpe/blob/main/implementgation_knn.ipynb\" target=\"_parent\"><img src=\"https://colab.research.google.com/assets/colab-badge.svg\" alt=\"Open In Colab\"/></a>"
      ]
    },
    {
      "cell_type": "markdown",
      "source": [
        "<h1>NoteBook de TPE d'apprentissage artificiel UY I Niveau 3 Info 2021/2022</h1>\n",
        "\n",
        "<h3>Liste des membres du TPE</h3>\n",
        "<ul>\n",
        "  <li>MOMENE TIYA Florian <strong>21S2785</strong></li>\n",
        "  <li>TEIDA NOUTSA Remi Raoul <strong>19M2447</strong></li>\n",
        "  <li>MBOCK NYENGUE Anne Claude <strong>19M2211</strong></li>\n",
        "  <li>EKOH FOUAPON NJIKAM Yvan <strong>19M2198</strong></li>\n",
        "</ul>\n",
        "<br>\n",
        "<strong><i>Par Dr. Melatagia</i></strong>"
      ],
      "metadata": {
        "id": "ooM4-36ZEH_x"
      }
    },
    {
      "cell_type": "code",
      "source": [
        "import numpy as np\n",
        "import matplotlib.pyplot as plt\n",
        "from collections import Counter\n",
        "from mpl_toolkits.mplot3d import Axes3D\n",
        "from sklearn import datasets\n",
        "from sklearn.metrics import accuracy_score\n",
        "np.random.seed(42)"
      ],
      "metadata": {
        "id": "07tDSLXhoh9A"
      },
      "execution_count": 68,
      "outputs": []
    },
    {
      "cell_type": "code",
      "execution_count": 85,
      "metadata": {
        "id": "Dcy5KbHcBdVk"
      },
      "outputs": [],
      "source": [
        "# loading data\n",
        "def data_load():\n",
        "  print(\"data loading...\")\n",
        "  iris = datasets.load_iris()\n",
        "  data = iris.data\n",
        "  labels = iris.target\n",
        "  print(\"data loaded.\")\n",
        "  return data, labels\n"
      ]
    },
    {
      "cell_type": "code",
      "source": [
        "# preparing data\n",
        "def data_preprocessing(data, labels):\n",
        "  print(\"Preprocessing data...\")\n",
        "  indices = np.random.permutation(len(data))\n",
        "  n_training_samples = 12\n",
        "  learn_data = data[indices[:-n_training_samples]]\n",
        "  learn_labels = labels[indices[:-n_training_samples]]\n",
        "  test_data = data[indices[-n_training_samples:]]\n",
        "  test_labels = labels[indices[-n_training_samples:]]\n",
        "  print(\"data preprocessed\")\n",
        "  \n",
        "  return learn_data, learn_labels, test_data, test_labels\n"
      ],
      "metadata": {
        "id": "6HdRdjUmE23S"
      },
      "execution_count": 91,
      "outputs": []
    },
    {
      "cell_type": "code",
      "source": [
        "# Visualising data\n",
        "def visualisation(learn_data, learn_labels):\n",
        "  colours = (\"r\", \"b\")\n",
        "  X = []\n",
        "  for iclass in range(3):\n",
        "    X.append([[], [], []])\n",
        "    for i in range(len(learn_data)):\n",
        "      if learn_labels[i] == iclass:\n",
        "        X[iclass][0].append(learn_data[i][0])\n",
        "        X[iclass][1].append(learn_data[i][1])\n",
        "        X[iclass][2].append(sum(learn_data[i][2:]))\n",
        "  colours = (\"r\", \"g\", \"y\")\n",
        "  fig = plt.figure()\n",
        "  ax = fig.add_subplot(111, projection='3d')\n",
        "  for iclass in range(3):\n",
        "      ax.scatter(X[iclass][0], X[iclass][1], X[iclass][2], c=colours[iclass])\n",
        "  plt.show()\n"
      ],
      "metadata": {
        "id": "hQkMgVVUGCej"
      },
      "execution_count": 71,
      "outputs": []
    },
    {
      "cell_type": "code",
      "source": [
        "#Calcule de la distance euclidienne en utilisant la fonction norm du module np.linalg\n",
        "def distance(instance1, instance2):\n",
        "  #Calculates the Eucledian distance between two instances\n",
        "  #ou instance1 et instance2 represente les coordonnées (représenter sous forme de liste ou tableau) des points dont on veut évaluer la distance qui leur sépare\n",
        "  return np.linalg.norm(np.subtract(instance1, instance2))"
      ],
      "metadata": {
        "id": "FLAvbw4mJHpH"
      },
      "execution_count": 72,
      "outputs": []
    },
    {
      "cell_type": "code",
      "source": [
        "# affichage de la liste des voisins d'un point\n",
        "# Pour le faire, on utilise la méthode get_neighbors qui prend en paramètre le jeu de \n",
        "#de données d'apprentissage,les étiquettes,l'intance de test dont on veut connaitre les voisins,le nombre de voisin et la distance  \n",
        "#qui est une liste qui va contenir les distances entre le jeu de donnée d'apprentissage et l'instance de test\n",
        "\n",
        "def get_neighbors(training_set,\n",
        "                  labels,\n",
        "                  test_instance,\n",
        "                  k):\n",
        "  distances = []\n",
        "  for index in range(len(training_set)):\n",
        "    dist = distance(test_instance, training_set[index])\n",
        "    distances.append((training_set[index], dist, labels[index]))\n",
        "  distances.sort(key=lambda x: x[1])\n",
        "  neighbors = distances[:k]\n",
        "  return neighbors"
      ],
      "metadata": {
        "id": "OE0lJALsKtfA"
      },
      "execution_count": 73,
      "outputs": []
    },
    {
      "cell_type": "code",
      "source": [
        "def get_class(selected_Kvalues):\n",
        "    labels_list = list(set(selected_Kvalues[0]))\n",
        "    score_labels_list = {}\n",
        "    for labels, diff in selected_Kvalues:\n",
        "      if labels not in score_labels_list:\n",
        "        score_labels_list[labels] = 1\n",
        "      else:\n",
        "        score_labels_list[labels] += 1\n",
        "    return sorted(score_labels_list)[-1]"
      ],
      "metadata": {
        "id": "FRbF5v0M0QAf"
      },
      "execution_count": 74,
      "outputs": []
    },
    {
      "cell_type": "code",
      "source": [
        "#Test de la fonction en utilisant le dataset iris\n",
        "\n",
        "def knn_classifier(training_data, training_labels, test_data, K):\n",
        "    print(\"Running KNN Classifier...\")\n",
        "    \n",
        "    result = []\n",
        "    for test_item in test_data:\n",
        "        similarity = [] \n",
        "        for index in range(len(training_data)):\n",
        "            euclidean_diff =\\\n",
        "                distance(test_item, training_data[index])\n",
        "            similarity.append((training_labels[index], euclidean_diff))\n",
        "\n",
        "        # Sort list in ascending order based on euclidean difference\n",
        "        similarity = sorted(similarity, key = lambda i:i[1])\n",
        "\n",
        "        # Select K nearest neighbours\n",
        "        selected_Kvalues = []\n",
        "        selected_Kvalues.extend(similarity[:K])\n",
        "        # Predicting the class of email\n",
        "        result.append(get_class(selected_Kvalues))\n",
        "    return result\n"
      ],
      "metadata": {
        "id": "5OVB4WfINBJ4"
      },
      "execution_count": 81,
      "outputs": []
    },
    {
      "cell_type": "code",
      "source": [
        "#Détermination de la classe a associé à l'instance de test\n",
        "#Utilisation de la classe counter du module collections pour conter le nombre d'intance de chaque classe qui sont les plus proches voisins de l'instance de test\n",
        "\n",
        "def vote(neighbors):\n",
        "  class_counter = Counter()\n",
        "  for neighbor in neighbors:\n",
        "    class_counter[neighbor[2]] += 1\n",
        "  return class_counter.most_common(1)[0][0]\n"
      ],
      "metadata": {
        "id": "U4XrFEpUNoJS"
      },
      "execution_count": 82,
      "outputs": []
    },
    {
      "cell_type": "code",
      "source": [
        "#Création d'une fonction qui va retourner le label ainsi que la probabilité de choisir ce label\n",
        "\n",
        "def vote_prob(neighbors):\n",
        "  class_counter = Counter()\n",
        "  for neighbor in neighbors:\n",
        "    class_counter[neighbor[2]] += 1\n",
        "  labels, votes = zip(*class_counter.most_common())\n",
        "  winner = class_counter.most_common(1)[0][0]\n",
        "  votes4winner = class_counter.most_common(1)[0][1]\n",
        "  return winner, votes4winner/sum(votes)"
      ],
      "metadata": {
        "id": "UnioKuPZP7iv"
      },
      "execution_count": 83,
      "outputs": []
    },
    {
      "cell_type": "code",
      "source": [
        "#Fonction qui permet de choisir la classe de l'instance de test en fonction du poids de chaque classe au voisinage de  cette instance\n",
        "\n",
        "def vote_harmonic_weights(neighbors, all_results=True):\n",
        "  class_counter = Counter()\n",
        "  number_of_neighbors = len(neighbors)\n",
        "  for index in range(number_of_neighbors):\n",
        "      class_counter[neighbors[index][2]] += 1/(index+1)\n",
        "  labels, votes = zip(*class_counter.most_common())\n",
        "  #print(labels, votes)\n",
        "  winner = class_counter.most_common(1)[0][0]\n",
        "  votes4winner = class_counter.most_common(1)[0][1]\n",
        "  if all_results:\n",
        "    total = sum(class_counter.values(), 0.0)\n",
        "    for key in class_counter:\n",
        "      class_counter[key] /= total\n",
        "    return winner, class_counter.most_common()\n",
        "  else:\n",
        "    return winner, votes4winner / sum(votes)\n",
        "\n",
        "\n"
      ],
      "metadata": {
        "id": "FUnfgKpkSJzV"
      },
      "execution_count": 78,
      "outputs": []
    },
    {
      "cell_type": "code",
      "source": [
        "# Nouvelle fonction de vote\n",
        "\n",
        "def vote_distance_weights(neighbors, all_results=True):\n",
        "  class_counter = Counter()\n",
        "  number_of_neighbors = len(neighbors)\n",
        "  for index in range(number_of_neighbors):\n",
        "    dist = neighbors[index][1]\n",
        "    label = neighbors[index][2]\n",
        "    class_counter[label] += 1 / (dist**2 + 1)\n",
        "  labels, votes = zip(*class_counter.most_common())\n",
        "  #print(labels, votes)\n",
        "  winner = class_counter.most_common(1)[0][0]\n",
        "  votes4winner = class_counter.most_common(1)[0][1]\n",
        "  if all_results:\n",
        "    total = sum(class_counter.values(), 0.0)\n",
        "    for key in class_counter:\n",
        "      class_counter[key] /= total\n",
        "    return winner, class_counter.most_common()\n",
        "  else:\n",
        "    return winner, votes4winner / sum(votes)"
      ],
      "metadata": {
        "id": "Qf17HFYFFTzf"
      },
      "execution_count": 93,
      "outputs": []
    },
    {
      "cell_type": "code",
      "source": [
        "def main(k): \n",
        "  data = data_load()\n",
        "  data_preprocessed = data_preprocessing(*data)\n",
        "  visualisation(*data_preprocessed[:2])\n",
        "  tsize = len(data_preprocessed[2])\n",
        "  result = knn_classifier(*data_preprocessed[:2], data_preprocessed[2][:tsize], k) \n",
        "  accuracy = accuracy_score(data_preprocessed[3][:tsize], result)\n",
        "\n",
        "  print(\"training data size : \" + str(len(data_preprocessed[0])))\n",
        "  print(\"test data size     : \" + str(len(data_preprocessed[2])))\n",
        "  print(\"K value            : \" + str(k))\n",
        "  print(\"Samples tested     : \" + str(tsize))\n",
        "  print(\"% accuracy         : \" + str(accuracy * 100))\n",
        "  print(\"Number correct     : \" + str(int(accuracy * tsize)))\n",
        "  print(\"Number wrong       : \" + str(int((1 - accuracy) * tsize)))"
      ],
      "metadata": {
        "id": "CweXAdeCr3gH"
      },
      "execution_count": 79,
      "outputs": []
    },
    {
      "cell_type": "code",
      "source": [
        "main(20)"
      ],
      "metadata": {
        "colab": {
          "base_uri": "https://localhost:8080/",
          "height": 502
        },
        "id": "ZVaFPjDW5Ev3",
        "outputId": "32718365-7bd6-4f55-9aed-b0c38476a3a5"
      },
      "execution_count": 90,
      "outputs": [
        {
          "output_type": "stream",
          "name": "stdout",
          "text": [
            "data loading...\n",
            "data loaded.\n",
            "Preprocessing data...\n",
            "data preprocessed \n",
            "\n",
            "\n"
          ]
        },
        {
          "output_type": "display_data",
          "data": {
            "text/plain": [
              "<Figure size 432x288 with 1 Axes>"
            ],
            "image/png": "[encoded data removed]"
          },
          "metadata": {
            "needs_background": "light"
          }
        },
        {
          "output_type": "stream",
          "name": "stdout",
          "text": [
            "Running KNN Classifier...\n",
            "training data size : 138\n",
            "test data size     : 12\n",
            "K value            : 20\n",
            "Samples tested     : 12\n",
            "% accuracy         : 83.33333333333334\n",
            "Number correct     : 10\n",
            "Number wrong       : 1\n"
          ]
        }
      ]
    },
    {
      "cell_type": "code",
      "source": [
        ""
      ],
      "metadata": {
        "id": "qpYY-9ef8k_y"
      },
      "execution_count": null,
      "outputs": []
    }
  ]
}